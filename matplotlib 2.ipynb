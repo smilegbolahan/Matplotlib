{
 "cells": [
  {
   "cell_type": "code",
   "execution_count": 1,
   "id": "cc2cff10",
   "metadata": {},
   "outputs": [],
   "source": [
    "import pandas as pd\n",
    "import matplotlib.pyplot as plt\n",
    "\n",
    "food = pd.read_excel(\"fruit product data.xlsx\", sheet_name=\"Sheet1\")"
   ]
  },
  {
   "cell_type": "code",
   "execution_count": 2,
   "id": "69d7b2d5",
   "metadata": {},
   "outputs": [
    {
     "data": {
      "text/html": [
       "<div>\n",
       "<style scoped>\n",
       "    .dataframe tbody tr th:only-of-type {\n",
       "        vertical-align: middle;\n",
       "    }\n",
       "\n",
       "    .dataframe tbody tr th {\n",
       "        vertical-align: top;\n",
       "    }\n",
       "\n",
       "    .dataframe thead th {\n",
       "        text-align: right;\n",
       "    }\n",
       "</style>\n",
       "<table border=\"1\" class=\"dataframe\">\n",
       "  <thead>\n",
       "    <tr style=\"text-align: right;\">\n",
       "      <th></th>\n",
       "      <th>Order ID</th>\n",
       "      <th>Product</th>\n",
       "      <th>Category</th>\n",
       "      <th>Amount</th>\n",
       "      <th>Order Date</th>\n",
       "      <th>State</th>\n",
       "    </tr>\n",
       "  </thead>\n",
       "  <tbody>\n",
       "    <tr>\n",
       "      <th>0</th>\n",
       "      <td>1</td>\n",
       "      <td>Carrots</td>\n",
       "      <td>Vegetables</td>\n",
       "      <td>4270</td>\n",
       "      <td>2012-01-06</td>\n",
       "      <td>Cross River</td>\n",
       "    </tr>\n",
       "    <tr>\n",
       "      <th>1</th>\n",
       "      <td>2</td>\n",
       "      <td>Water leaf</td>\n",
       "      <td>Vegetables</td>\n",
       "      <td>8239</td>\n",
       "      <td>2012-01-07</td>\n",
       "      <td>Lagos</td>\n",
       "    </tr>\n",
       "    <tr>\n",
       "      <th>2</th>\n",
       "      <td>3</td>\n",
       "      <td>Banana</td>\n",
       "      <td>Fruit</td>\n",
       "      <td>617</td>\n",
       "      <td>2012-01-08</td>\n",
       "      <td>Cross River</td>\n",
       "    </tr>\n",
       "    <tr>\n",
       "      <th>3</th>\n",
       "      <td>4</td>\n",
       "      <td>Banana</td>\n",
       "      <td>Fruit</td>\n",
       "      <td>8384</td>\n",
       "      <td>2012-01-10</td>\n",
       "      <td>Abuja</td>\n",
       "    </tr>\n",
       "    <tr>\n",
       "      <th>4</th>\n",
       "      <td>5</td>\n",
       "      <td>Beans</td>\n",
       "      <td>Vegetables</td>\n",
       "      <td>2626</td>\n",
       "      <td>2012-01-10</td>\n",
       "      <td>Ogun</td>\n",
       "    </tr>\n",
       "    <tr>\n",
       "      <th>...</th>\n",
       "      <td>...</td>\n",
       "      <td>...</td>\n",
       "      <td>...</td>\n",
       "      <td>...</td>\n",
       "      <td>...</td>\n",
       "      <td>...</td>\n",
       "    </tr>\n",
       "    <tr>\n",
       "      <th>208</th>\n",
       "      <td>209</td>\n",
       "      <td>Apple</td>\n",
       "      <td>Fruit</td>\n",
       "      <td>1777</td>\n",
       "      <td>2012-12-28</td>\n",
       "      <td>Bauchi</td>\n",
       "    </tr>\n",
       "    <tr>\n",
       "      <th>209</th>\n",
       "      <td>210</td>\n",
       "      <td>Beans</td>\n",
       "      <td>Vegetables</td>\n",
       "      <td>680</td>\n",
       "      <td>2012-12-28</td>\n",
       "      <td>Bauchi</td>\n",
       "    </tr>\n",
       "    <tr>\n",
       "      <th>210</th>\n",
       "      <td>211</td>\n",
       "      <td>Orange</td>\n",
       "      <td>Fruit</td>\n",
       "      <td>958</td>\n",
       "      <td>2012-12-29</td>\n",
       "      <td>Cross River</td>\n",
       "    </tr>\n",
       "    <tr>\n",
       "      <th>211</th>\n",
       "      <td>212</td>\n",
       "      <td>Carrots</td>\n",
       "      <td>Vegetables</td>\n",
       "      <td>2613</td>\n",
       "      <td>2012-12-29</td>\n",
       "      <td>Benue</td>\n",
       "    </tr>\n",
       "    <tr>\n",
       "      <th>212</th>\n",
       "      <td>213</td>\n",
       "      <td>Carrots</td>\n",
       "      <td>Vegetables</td>\n",
       "      <td>339</td>\n",
       "      <td>2012-12-30</td>\n",
       "      <td>Benue</td>\n",
       "    </tr>\n",
       "  </tbody>\n",
       "</table>\n",
       "<p>213 rows × 6 columns</p>\n",
       "</div>"
      ],
      "text/plain": [
       "     Order ID     Product    Category  Amount Order Date        State\n",
       "0           1     Carrots  Vegetables    4270 2012-01-06  Cross River\n",
       "1           2  Water leaf  Vegetables    8239 2012-01-07        Lagos\n",
       "2           3      Banana       Fruit     617 2012-01-08  Cross River\n",
       "3           4      Banana       Fruit    8384 2012-01-10        Abuja\n",
       "4           5       Beans  Vegetables    2626 2012-01-10         Ogun\n",
       "..        ...         ...         ...     ...        ...          ...\n",
       "208       209       Apple       Fruit    1777 2012-12-28       Bauchi\n",
       "209       210       Beans  Vegetables     680 2012-12-28       Bauchi\n",
       "210       211      Orange       Fruit     958 2012-12-29  Cross River\n",
       "211       212     Carrots  Vegetables    2613 2012-12-29        Benue\n",
       "212       213     Carrots  Vegetables     339 2012-12-30        Benue\n",
       "\n",
       "[213 rows x 6 columns]"
      ]
     },
     "execution_count": 2,
     "metadata": {},
     "output_type": "execute_result"
    }
   ],
   "source": [
    "food"
   ]
  },
  {
   "cell_type": "code",
   "execution_count": 11,
   "id": "09a8a69c",
   "metadata": {},
   "outputs": [
    {
     "data": {
      "image/png": "[encoded data removed]",
      "text/plain": [
       "<Figure size 432x288 with 1 Axes>"
      ]
     },
     "metadata": {
      "needs_background": "light"
     },
     "output_type": "display_data"
    }
   ],
   "source": [
    "food.set_index(\"Product\").groupby(\"Product\").sum().plot(kind=\"bar\", y=\"Amount\", title=\"Fruit and Prices\", ylabel=\"Amount\", color=\"violet\")\n",
    "plt.show()"
   ]
  },
  {
   "cell_type": "code",
   "execution_count": 12,
   "id": "8baa0e2c",
   "metadata": {},
   "outputs": [
    {
     "data": {
      "image/png": "[encoded data removed]",
      "text/plain": [
       "<Figure size 432x288 with 1 Axes>"
      ]
     },
     "metadata": {
      "needs_background": "light"
     },
     "output_type": "display_data"
    }
   ],
   "source": [
    "food.set_index(\"Product\").groupby(\"Product\").sum().plot(kind=\"area\", y=\"Amount\", title=\"Fruit and Prices\", ylabel=\"Amount\", color=\"violet\")\n",
    "plt.show()"
   ]
  },
  {
   "cell_type": "code",
   "execution_count": null,
   "id": "b8ad701a",
   "metadata": {},
   "outputs": [],
   "source": []
  }
 ],
 "metadata": {
  "kernelspec": {
   "display_name": "Python 3 (ipykernel)",
   "language": "python",
   "name": "python3"
  },
  "language_info": {
   "codemirror_mode": {
    "name": "ipython",
    "version": 3
   },
   "file_extension": ".py",
   "mimetype": "text/x-python",
   "name": "python",
   "nbconvert_exporter": "python",
   "pygments_lexer": "ipython3",
   "version": "3.9.12"
  }
 },
 "nbformat": 4,
 "nbformat_minor": 5
}
